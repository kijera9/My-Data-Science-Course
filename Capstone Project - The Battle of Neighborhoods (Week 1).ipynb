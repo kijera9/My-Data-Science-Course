{
 "cells": [
  {
   "cell_type": "markdown",
   "metadata": {},
   "source": [
    "# Capstone Project - The Battle of Neighborhoods (Week 1).\n",
    "\n",
    "## A description of the problem and a discussion of the background.\n",
    "\n",
    "New York City is the most populated city in the United States. With an estimated 2019 population of 8,336,817 distributed over about 302.6 square miles (784 km2), New York is also the most densely populated major city in the United States,located at the southern tip of the U.S. state of New York, the city is the center of the New York metropolitan area, the largest metropolitan area in the world by urban landmass.With almost 20 million people in its metropolitan statistical area and approximately 23 million in its combined statistical area, it is one of the world's most populous mega cities. New York City has been described as the cultural, financial and media capital of the world, significantly influencing commerce, entertainment, research, technology, education, politics, tourism, art, fashion and sports. \n",
    "\n",
    "In this project we will explore, analyze and give recommendations on Italian cuisine in each of the five different boroughs of New York City namely, Bronx, Brooklyn, Manhattan, Queens and Staten Island. The City is a home to many immigrants of different ethnic groups. Almost all ethnic cuisines are well represented in New York City, both within and outside the various ethnic neighborhoods. As many as 800 languages are spoken in New York, making it the most linguistically diverse city in the world. New York is home to more than 3.2 million residents born outside the United States,the largest foreign-born population of any city in the world as of 2016. \n",
    "\n",
    "After the data analysis, questions like where to open an Italian restaurant or the best borough to open an Italian restaurant, the borough to find most Italian restaurants or the borough with the least Italian restaurants will be answered.\n",
    "\n",
    "\n",
    "# A description of the data and how it will be used to solve the problem.\n",
    "\n",
    "\n",
    "This is our Data Source - https://cocl.us/new_york_dataset\n",
    "\n",
    "The geo data https://geo.nyu.edu/catalog/nyu_2451_34572 \n",
    "\n",
    "1. We will utilize the Foursquare API to explore and segment the neighborhoods dataset that contains the 5 boroughs and the neighborhoods that exist in each borough. We will use geopy library to get the latitude and longitude coordinates of each neighborhood. Will use Folium library on the coordinates for visualization of the map of the neighborhood and the explore function to get the most common venue categories in each neighborhood. \n",
    "2. We will further Explore the venue categories to filter out the number of Italian restaurants in each of the 5 boroughs and give a statistical recommendations. We will also find the rating of each specified restaurant in our analysis and finally run k-means to cluster the neighborhood into 5 clusters.\n",
    "\n",
    "This data analysis and approach can be apply to filter other ethnic cuisines like Indian Restaurants, African Restaurants, Chinese restaurants, Jamaican Restaurants or any other cuisine of culture of interest one may wish to analyse in New York City.\n",
    "\n"
   ]
  },
  {
   "cell_type": "code",
   "execution_count": null,
   "metadata": {},
   "outputs": [],
   "source": []
  }
 ],
 "metadata": {
  "kernelspec": {
   "display_name": "Python",
   "language": "python",
   "name": "conda-env-python-py"
  },
  "language_info": {
   "codemirror_mode": {
    "name": "ipython",
    "version": 3
   },
   "file_extension": ".py",
   "mimetype": "text/x-python",
   "name": "python",
   "nbconvert_exporter": "python",
   "pygments_lexer": "ipython3",
   "version": "3.6.10"
  }
 },
 "nbformat": 4,
 "nbformat_minor": 4
}
